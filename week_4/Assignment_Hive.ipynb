{
  "cells": [
    {
      "cell_type": "markdown",
      "metadata": {
        "id": "view-in-github",
        "colab_type": "text"
      },
      "source": [
        "<a href=\"https://colab.research.google.com/github/Hendrik-Stolzke/Studium-AKI/blob/main/week_4/Assignment_Hive.ipynb\" target=\"_parent\"><img src=\"https://colab.research.google.com/assets/colab-badge.svg\" alt=\"Open In Colab\"/></a>"
      ]
    },
    {
      "cell_type": "markdown",
      "metadata": {
        "id": "MgHClVPfH01I"
      },
      "source": [
        "# Hive\n",
        "We use the *pyHive* lib: https://github.com/dropbox/PyHive\n",
        "\n",
        "## Resources\n",
        "* [HQL cheat sheet](http://hortonworks.com/wp-content/uploads/2016/05/Hortonworks.CheatSheet.SQLtoHive.pdf)\n",
        "* [Hive reference](https://cwiki.apache.org/confluence/display/Hive/LanguageManual)\n",
        "\n",
        "## Install\n",
        "Install *pyHive* via *anaconda*"
      ]
    },
    {
      "cell_type": "code",
      "execution_count": 1,
      "metadata": {
        "id": "HCaNBc_pH01S"
      },
      "outputs": [],
      "source": [
        "!pip install -q condacolab\n",
        "\n"
      ]
    },
    {
      "cell_type": "code",
      "execution_count": 2,
      "metadata": {
        "colab": {
          "base_uri": "https://localhost:8080/"
        },
        "id": "hbf_ESW7rYxU",
        "outputId": "136d6002-65bc-4e8d-aa9f-87a11b2c5772"
      },
      "outputs": [
        {
          "output_type": "stream",
          "name": "stdout",
          "text": [
            "✨🍰✨ Everything looks OK!\n"
          ]
        }
      ],
      "source": [
        "import condacolab\n",
        "condacolab.install()\n",
        "\n"
      ]
    },
    {
      "cell_type": "code",
      "execution_count": 3,
      "metadata": {
        "colab": {
          "base_uri": "https://localhost:8080/"
        },
        "id": "yZtda4Pardbi",
        "outputId": "d110ba09-ee91-49f6-f499-83e680a99aa5"
      },
      "outputs": [
        {
          "output_type": "stream",
          "name": "stdout",
          "text": [
            "Requirement already satisfied: pyhive in /usr/local/lib/python3.11/site-packages (0.7.0)\n",
            "Requirement already satisfied: thrift in /usr/local/lib/python3.11/site-packages (0.21.0)\n",
            "Requirement already satisfied: thrift_sasl in /usr/local/lib/python3.11/site-packages (0.4.3)\n",
            "Requirement already satisfied: future in /usr/local/lib/python3.11/site-packages (from pyhive) (1.0.0)\n",
            "Requirement already satisfied: python-dateutil in /usr/local/lib/python3.11/site-packages (from pyhive) (2.9.0.post0)\n",
            "Requirement already satisfied: six>=1.7.2 in /usr/local/lib/python3.11/site-packages (from thrift) (1.17.0)\n",
            "Requirement already satisfied: pure-sasl>=0.6.2 in /usr/local/lib/python3.11/site-packages (from thrift_sasl) (0.6.2)\n"
          ]
        }
      ],
      "source": [
        "!pip install pyhive thrift thrift_sasl"
      ]
    },
    {
      "cell_type": "code",
      "execution_count": 4,
      "metadata": {
        "id": "AoBWUZAVH01U"
      },
      "outputs": [],
      "source": [
        "#import libs\n",
        "from pyhive import hive\n",
        "from TCLIService.ttypes import TOperationState"
      ]
    },
    {
      "cell_type": "code",
      "execution_count": 5,
      "metadata": {
        "id": "Xei9sSNAH01V"
      },
      "outputs": [],
      "source": [
        "# try to connect\n",
        "server=\"ec2-34-242-59-145.eu-west-1.compute.amazonaws.com\"\n",
        "cursor = hive.connect(server).cursor()"
      ]
    },
    {
      "cell_type": "code",
      "execution_count": 6,
      "metadata": {
        "id": "PBzVSTQEH01V"
      },
      "outputs": [],
      "source": [
        "#show our databases\n",
        "cursor.execute('show databases')"
      ]
    },
    {
      "cell_type": "code",
      "execution_count": 7,
      "metadata": {
        "colab": {
          "base_uri": "https://localhost:8080/"
        },
        "id": "oblfzvS6H01W",
        "outputId": "4843fe55-a382-42a5-df5b-51552923d0ef"
      },
      "outputs": [
        {
          "output_type": "execute_result",
          "data": {
            "text/plain": [
              "[('default',)]"
            ]
          },
          "metadata": {},
          "execution_count": 7
        }
      ],
      "source": [
        "#get data from execution\n",
        "cursor.fetchall()"
      ]
    },
    {
      "cell_type": "code",
      "execution_count": 8,
      "metadata": {
        "id": "3HOpreHyH01Y"
      },
      "outputs": [],
      "source": [
        "#use default db\n",
        "cursor.execute('use default')"
      ]
    },
    {
      "cell_type": "code",
      "execution_count": 9,
      "metadata": {
        "id": "sfP3VHwyH01a"
      },
      "outputs": [],
      "source": [
        "#show tables in db\n",
        "cursor.execute('show tables')"
      ]
    },
    {
      "cell_type": "code",
      "execution_count": 10,
      "metadata": {
        "colab": {
          "base_uri": "https://localhost:8080/"
        },
        "id": "Q93V1EWLH01b",
        "outputId": "c2e4e645-1dc1-4612-f142-6594788ea298"
      },
      "outputs": [
        {
          "output_type": "execute_result",
          "data": {
            "text/plain": [
              "[('hue__tmp_employees',), ('hue__tmp_salaries',)]"
            ]
          },
          "metadata": {},
          "execution_count": 10
        }
      ],
      "source": [
        "cursor.fetchall()"
      ]
    },
    {
      "cell_type": "code",
      "execution_count": 11,
      "metadata": {
        "colab": {
          "base_uri": "https://localhost:8080/"
        },
        "id": "AGw0RCptH01c",
        "outputId": "90d84608-d410-45bc-e7cb-7f6e53aafc54"
      },
      "outputs": [
        {
          "output_type": "execute_result",
          "data": {
            "text/plain": [
              "[('field_1', 'bigint', ''),\n",
              " ('field_2', 'string', ''),\n",
              " ('field_3', 'string', ''),\n",
              " ('field_4', 'string', ''),\n",
              " ('field_5', 'string', ''),\n",
              " ('field_6', 'string', '')]"
            ]
          },
          "metadata": {},
          "execution_count": 11
        }
      ],
      "source": [
        "# get table layout\n",
        "cursor.execute('describe hue__tmp_employees')\n",
        "cursor.fetchall()"
      ]
    },
    {
      "cell_type": "code",
      "execution_count": 12,
      "metadata": {
        "id": "lVrk3FeAH01d"
      },
      "outputs": [],
      "source": [
        "#select data\n",
        "cursor.execute('select * from hue__tmp_employees')"
      ]
    },
    {
      "cell_type": "code",
      "execution_count": 13,
      "metadata": {
        "id": "FfrzcTSoH01e"
      },
      "outputs": [],
      "source": [
        "#get daata from selction\n",
        "employee = cursor.fetchall()"
      ]
    },
    {
      "cell_type": "code",
      "execution_count": 14,
      "metadata": {
        "colab": {
          "base_uri": "https://localhost:8080/"
        },
        "id": "9jmXC22-H01f",
        "outputId": "f6b1b647-f1f1-4fa8-dfb6-31256de15aba"
      },
      "outputs": [
        {
          "output_type": "execute_result",
          "data": {
            "text/plain": [
              "[(10001, \"'1953-09-02'\", \"'Georgi'\", \"'Facello'\", \"'M'\", \"'1986-06-26'\"),\n",
              " (10002, \"'1964-06-02'\", \"'Bezalel'\", \"'Simmel'\", \"'F'\", \"'1985-11-21'\"),\n",
              " (10003, \"'1959-12-03'\", \"'Parto'\", \"'Bamford'\", \"'M'\", \"'1986-08-28'\"),\n",
              " (10004, \"'1954-05-01'\", \"'Chirstian'\", \"'Koblick'\", \"'M'\", \"'1986-12-01'\"),\n",
              " (10005, \"'1955-01-21'\", \"'Kyoichi'\", \"'Maliniak'\", \"'M'\", \"'1989-09-12'\"),\n",
              " (10006, \"'1953-04-20'\", \"'Anneke'\", \"'Preusig'\", \"'F'\", \"'1989-06-02'\"),\n",
              " (10007, \"'1957-05-23'\", \"'Tzvetan'\", \"'Zielinski'\", \"'F'\", \"'1989-02-10'\"),\n",
              " (10008, \"'1958-02-19'\", \"'Saniya'\", \"'Kalloufi'\", \"'M'\", \"'1994-09-15'\"),\n",
              " (10009, \"'1952-04-19'\", \"'Sumant'\", \"'Peac'\", \"'F'\", \"'1985-02-18'\"),\n",
              " (10010, \"'1963-06-01'\", \"'Duangkaew'\", \"'Piveteau'\", \"'F'\", \"'1989-08-24'\")]"
            ]
          },
          "metadata": {},
          "execution_count": 14
        }
      ],
      "source": [
        "#have a look\n",
        "employee[:10]"
      ]
    },
    {
      "cell_type": "code",
      "execution_count": 15,
      "metadata": {
        "colab": {
          "base_uri": "https://localhost:8080/"
        },
        "id": "EDcDMjh3H01f",
        "outputId": "76f96108-ec1b-4809-a6e9-112f87ea9c49"
      },
      "outputs": [
        {
          "output_type": "execute_result",
          "data": {
            "text/plain": [
              "[('field_1', 'bigint', ''),\n",
              " ('field_2', 'bigint', ''),\n",
              " ('field_3', 'string', ''),\n",
              " ('field_4', 'string', '')]"
            ]
          },
          "metadata": {},
          "execution_count": 15
        }
      ],
      "source": [
        "# get salary table layout\n",
        "cursor.execute('describe hue__tmp_salaries')\n",
        "cursor.fetchall()"
      ]
    },
    {
      "cell_type": "code",
      "execution_count": 16,
      "metadata": {
        "id": "N3R5nE9ZH01g"
      },
      "outputs": [],
      "source": [
        "#select data\n",
        "cursor.execute('select * from hue__tmp_salaries')"
      ]
    },
    {
      "cell_type": "code",
      "execution_count": 17,
      "metadata": {
        "id": "OX9pna1WH01h"
      },
      "outputs": [],
      "source": [
        "#get daata from selction\n",
        "salary = cursor.fetchall()"
      ]
    },
    {
      "cell_type": "code",
      "execution_count": 18,
      "metadata": {
        "colab": {
          "base_uri": "https://localhost:8080/"
        },
        "id": "sPyV2OsSH01h",
        "outputId": "8240177a-7ae5-45f4-fa10-6f7fcd2250a7"
      },
      "outputs": [
        {
          "output_type": "execute_result",
          "data": {
            "text/plain": [
              "[(10001, 60117, \"'1986-06-26'\", \"'1987-06-26'\"),\n",
              " (10001, 62102, \"'1987-06-26'\", \"'1988-06-25'\"),\n",
              " (10001, 66074, \"'1988-06-25'\", \"'1989-06-25'\"),\n",
              " (10001, 66596, \"'1989-06-25'\", \"'1990-06-25'\"),\n",
              " (10001, 66961, \"'1990-06-25'\", \"'1991-06-25'\"),\n",
              " (10001, 71046, \"'1991-06-25'\", \"'1992-06-24'\"),\n",
              " (10001, 74333, \"'1992-06-24'\", \"'1993-06-24'\"),\n",
              " (10001, 75286, \"'1993-06-24'\", \"'1994-06-24'\"),\n",
              " (10001, 75994, \"'1994-06-24'\", \"'1995-06-24'\"),\n",
              " (10001, 76884, \"'1995-06-24'\", \"'1996-06-23'\")]"
            ]
          },
          "metadata": {},
          "execution_count": 18
        }
      ],
      "source": [
        "salary[:10]"
      ]
    },
    {
      "cell_type": "markdown",
      "metadata": {
        "id": "Cr0ty4gsH01i"
      },
      "source": [
        "## Ex 1\n",
        "Get employees sorted by ``family_name``. Return first 10 entries."
      ]
    },
    {
      "cell_type": "code",
      "execution_count": 30,
      "metadata": {
        "id": "5plL57fKH01i"
      },
      "outputs": [],
      "source": [
        "cursor.execute(\"select * from hue__tmp_employees order by field_4\") # field_4 == family_name"
      ]
    },
    {
      "cell_type": "code",
      "execution_count": 34,
      "metadata": {
        "id": "f5AbUIxfH01j",
        "colab": {
          "base_uri": "https://localhost:8080/"
        },
        "outputId": "b6a8a093-2ffb-4488-97d8-e21b09796ef8"
      },
      "outputs": [
        {
          "output_type": "execute_result",
          "data": {
            "text/plain": [
              "[(10001, 60117, \"'1986-06-26'\", \"'1987-06-26'\"),\n",
              " (10001, 62102, \"'1987-06-26'\", \"'1988-06-25'\"),\n",
              " (10001, 66074, \"'1988-06-25'\", \"'1989-06-25'\"),\n",
              " (10001, 66596, \"'1989-06-25'\", \"'1990-06-25'\"),\n",
              " (10001, 66961, \"'1990-06-25'\", \"'1991-06-25'\"),\n",
              " (10001, 71046, \"'1991-06-25'\", \"'1992-06-24'\"),\n",
              " (10001, 74333, \"'1992-06-24'\", \"'1993-06-24'\"),\n",
              " (10001, 75286, \"'1993-06-24'\", \"'1994-06-24'\"),\n",
              " (10001, 75994, \"'1994-06-24'\", \"'1995-06-24'\"),\n",
              " (10001, 76884, \"'1995-06-24'\", \"'1996-06-23'\")]"
            ]
          },
          "metadata": {},
          "execution_count": 34
        }
      ],
      "source": [
        "cursor.fetchall()\n",
        "salary[:10]"
      ]
    },
    {
      "cell_type": "markdown",
      "metadata": {
        "id": "A5YKLzYnH01j"
      },
      "source": [
        "## Ex 2\n",
        "Get ``family_name`` and ``salary`` of employees sorted by salary. Return first 100 entries. Hint: you need to join both tables..."
      ]
    },
    {
      "cell_type": "code",
      "execution_count": null,
      "metadata": {
        "id": "sqGnrDiHH01k"
      },
      "outputs": [],
      "source": [
        "cursor.execute(\" \")\n",
        "data=cursor.fetchall()"
      ]
    },
    {
      "cell_type": "markdown",
      "metadata": {
        "id": "d67mWDujH01k"
      },
      "source": [
        "## Ex 3\n",
        "Get the average salary by gender. Hint: use Group by"
      ]
    },
    {
      "cell_type": "code",
      "execution_count": null,
      "metadata": {
        "id": "aYZjnau0H01l"
      },
      "outputs": [],
      "source": [
        "cursor.execute(\" \")\n",
        "cursor.fetchall()"
      ]
    },
    {
      "cell_type": "code",
      "execution_count": null,
      "metadata": {
        "id": "OYp78F7AH01l"
      },
      "outputs": [],
      "source": []
    }
  ],
  "metadata": {
    "accelerator": "GPU",
    "colab": {
      "name": "Assignment_Hive.ipynb",
      "provenance": [],
      "include_colab_link": true
    },
    "kernelspec": {
      "display_name": "Python 3 (ipykernel)",
      "language": "python",
      "name": "python3"
    },
    "language_info": {
      "codemirror_mode": {
        "name": "ipython",
        "version": 3
      },
      "file_extension": ".py",
      "mimetype": "text/x-python",
      "name": "python",
      "nbconvert_exporter": "python",
      "pygments_lexer": "ipython3",
      "version": "3.9.12"
    }
  },
  "nbformat": 4,
  "nbformat_minor": 0
}