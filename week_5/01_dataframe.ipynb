{
  "cells": [
    {
      "cell_type": "markdown",
      "metadata": {
        "tags": [],
        "id": "HKoYI0tZb-Sl"
      },
      "source": [
        "<img src=\"http://dask.readthedocs.io/en/latest/_images/dask_horizontal.svg\"\n",
        "     align=\"right\"\n",
        "     width=\"30%\"\n",
        "     alt=\"Dask logo\\\">\n",
        "\n",
        "\n",
        "# Dask DataFrame - parallelized pandas\n",
        "\n",
        "Looks and feels like the pandas API, but for parallel and distributed workflows.\n",
        "\n",
        "At its core, the `dask.dataframe` module implements a \"blocked parallel\" `DataFrame` object that looks and feels like the pandas API, but for parallel and distributed workflows. One Dask `DataFrame` is comprised of many in-memory pandas `DataFrame`s separated along the index. One operation on a Dask `DataFrame` triggers many pandas operations on the constituent pandas `DataFrame`s in a way that is mindful of potential parallelism and memory constraints.\n"
      ]
    },
    {
      "cell_type": "markdown",
      "metadata": {
        "tags": [],
        "id": "4sS1jb2Nb-So"
      },
      "source": [
        "<img src=\"https://docs.dask.org/en/stable/_images/dask-dataframe.svg\"\n",
        "     align=\"right\"\n",
        "     width=\"30%\"\n",
        "     alt=\"Dask DataFrame is composed of pandas DataFrames\"/>\n",
        "\n",
        "**Related Documentation**\n",
        "\n",
        "* [DataFrame documentation](https://docs.dask.org/en/latest/dataframe.html)\n",
        "* [DataFrame screencast](https://youtu.be/AT2XtFehFSQ)\n",
        "* [DataFrame API](https://docs.dask.org/en/latest/dataframe-api.html)\n",
        "* [DataFrame examples](https://examples.dask.org/dataframe.html)\n",
        "* [pandas documentation](https://pandas.pydata.org/pandas-docs/stable/)\n",
        "\n",
        "## When to use `dask.dataframe`\n",
        "\n",
        "pandas is great for tabular datasets that fit in memory. A general rule of thumb for pandas is:\n",
        "\n",
        "> \"Have 5 to 10 times as much RAM as the size of your dataset\"\n",
        ">\n",
        "> ~ Wes McKinney (2017) in [10 things I hate about pandas](https://wesmckinney.com/blog/apache-arrow-pandas-internals/)\n",
        "\n",
        "Here \"size of dataset\" means dataset size on _the disk_.\n",
        "\n",
        "Dask becomes useful when the datasets exceed the above rule.\n",
        "\n",
        "In this notebook, you will be working with the New York City Airline data. This dataset is only ~200MB, so that you can download it in a reasonable time, but `dask.dataframe` will scale to  datasets **much** larger than memory.\n",
        "\n"
      ]
    },
    {
      "cell_type": "code",
      "source": [
        "!git clone https://github.com/dask/dask-tutorial.git\n",
        "%cd dask-tutorial\n"
      ],
      "metadata": {
        "colab": {
          "base_uri": "https://localhost:8080/"
        },
        "id": "DrqTFEAMcXue",
        "outputId": "de21b04e-fe60-49b9-8a15-411f3125645a"
      },
      "execution_count": 38,
      "outputs": [
        {
          "output_type": "stream",
          "name": "stdout",
          "text": [
            "Cloning into 'dask-tutorial'...\n",
            "remote: Enumerating objects: 4160, done.\u001b[K\n",
            "remote: Counting objects: 100% (511/511), done.\u001b[K\n",
            "remote: Compressing objects: 100% (65/65), done.\u001b[K\n",
            "remote: Total 4160 (delta 481), reused 446 (delta 446), pack-reused 3649 (from 2)\u001b[K\n",
            "Receiving objects: 100% (4160/4160), 140.58 MiB | 21.36 MiB/s, done.\n",
            "Resolving deltas: 100% (2768/2768), done.\n",
            "/content/dask-tutorial/dask-tutorial/dask-tutorial\n"
          ]
        }
      ]
    },
    {
      "cell_type": "markdown",
      "metadata": {
        "id": "G-pkcserb-Sp"
      },
      "source": [
        "## Create datasets"
      ]
    },
    {
      "cell_type": "markdown",
      "metadata": {
        "id": "lxglfYaNb-Sp"
      },
      "source": [
        "Create the datasets you will be using in this notebook:"
      ]
    },
    {
      "cell_type": "code",
      "execution_count": 39,
      "metadata": {
        "colab": {
          "base_uri": "https://localhost:8080/"
        },
        "id": "ux1e3DO7b-Sq",
        "outputId": "fa2825ab-4501-4cdf-90cc-1943074cc7d7"
      },
      "outputs": [
        {
          "output_type": "stream",
          "name": "stdout",
          "text": [
            "- Downloading NYC Flights dataset... done\n",
            "- Extracting flight data... done\n",
            "- Creating json data... done\n",
            "** Created flights dataset! in 5.13s**\n"
          ]
        }
      ],
      "source": [
        "%run prep.py -d flights"
      ]
    },
    {
      "cell_type": "markdown",
      "metadata": {
        "id": "X6yKeV4hb-Sr"
      },
      "source": [
        "## Set up your local cluster"
      ]
    },
    {
      "cell_type": "markdown",
      "metadata": {
        "id": "0wSFu5TQb-Sr"
      },
      "source": [
        "Create a local Dask cluster and connect it to the client. Don't worry about this bit of code for now, you will learn more in the Distributed notebook."
      ]
    },
    {
      "cell_type": "code",
      "execution_count": 40,
      "metadata": {
        "colab": {
          "base_uri": "https://localhost:8080/",
          "height": 626
        },
        "id": "QpeCHVryb-Ss",
        "outputId": "1a30bea0-78e1-4293-dd63-e83a14f4b69b"
      },
      "outputs": [
        {
          "output_type": "stream",
          "name": "stderr",
          "text": [
            "/usr/local/lib/python3.11/dist-packages/distributed/node.py:187: UserWarning: Port 8787 is already in use.\n",
            "Perhaps you already have a cluster running?\n",
            "Hosting the HTTP server on port 44807 instead\n",
            "  warnings.warn(\n",
            "INFO:distributed.scheduler:State start\n",
            "INFO:distributed.scheduler:  Scheduler at:     tcp://127.0.0.1:40103\n",
            "INFO:distributed.scheduler:  dashboard at:  http://127.0.0.1:44807/status\n",
            "INFO:distributed.scheduler:Registering Worker plugin shuffle\n",
            "INFO:distributed.nanny:        Start Nanny at: 'tcp://127.0.0.1:44367'\n",
            "INFO:distributed.nanny:        Start Nanny at: 'tcp://127.0.0.1:46703'\n",
            "INFO:distributed.nanny:        Start Nanny at: 'tcp://127.0.0.1:34659'\n",
            "INFO:distributed.nanny:        Start Nanny at: 'tcp://127.0.0.1:42485'\n",
            "INFO:distributed.scheduler:Register worker addr: tcp://127.0.0.1:45313 name: 3\n",
            "INFO:distributed.scheduler:Starting worker compute stream, tcp://127.0.0.1:45313\n",
            "INFO:distributed.core:Starting established connection to tcp://127.0.0.1:38840\n",
            "INFO:distributed.scheduler:Register worker addr: tcp://127.0.0.1:43025 name: 2\n",
            "INFO:distributed.scheduler:Starting worker compute stream, tcp://127.0.0.1:43025\n",
            "INFO:distributed.core:Starting established connection to tcp://127.0.0.1:38864\n",
            "INFO:distributed.scheduler:Register worker addr: tcp://127.0.0.1:42233 name: 0\n",
            "INFO:distributed.scheduler:Starting worker compute stream, tcp://127.0.0.1:42233\n",
            "INFO:distributed.core:Starting established connection to tcp://127.0.0.1:38852\n",
            "INFO:distributed.scheduler:Register worker addr: tcp://127.0.0.1:41153 name: 1\n",
            "INFO:distributed.scheduler:Starting worker compute stream, tcp://127.0.0.1:41153\n",
            "INFO:distributed.core:Starting established connection to tcp://127.0.0.1:38872\n",
            "INFO:distributed.scheduler:Receive client connection: Client-e0b38def-2c9d-11f0-8211-0242ac1c000c\n",
            "INFO:distributed.core:Starting established connection to tcp://127.0.0.1:52410\n"
          ]
        },
        {
          "output_type": "execute_result",
          "data": {
            "text/plain": [
              "<Client: 'tcp://127.0.0.1:40103' processes=4 threads=4, memory=12.67 GiB>"
            ],
            "text/html": [
              "<div>\n",
              "    <div style=\"width: 24px; height: 24px; background-color: #e1e1e1; border: 3px solid #9D9D9D; border-radius: 5px; position: absolute;\"> </div>\n",
              "    <div style=\"margin-left: 48px;\">\n",
              "        <h3 style=\"margin-bottom: 0px;\">Client</h3>\n",
              "        <p style=\"color: #9D9D9D; margin-bottom: 0px;\">Client-e0b38def-2c9d-11f0-8211-0242ac1c000c</p>\n",
              "        <table style=\"width: 100%; text-align: left;\">\n",
              "\n",
              "        <tr>\n",
              "        \n",
              "            <td style=\"text-align: left;\"><strong>Connection method:</strong> Cluster object</td>\n",
              "            <td style=\"text-align: left;\"><strong>Cluster type:</strong> distributed.LocalCluster</td>\n",
              "        \n",
              "        </tr>\n",
              "\n",
              "        \n",
              "            <tr>\n",
              "                <td style=\"text-align: left;\">\n",
              "                    <strong>Dashboard: </strong> <a href=\"http://127.0.0.1:44807/status\" target=\"_blank\">http://127.0.0.1:44807/status</a>\n",
              "                </td>\n",
              "                <td style=\"text-align: left;\"></td>\n",
              "            </tr>\n",
              "        \n",
              "\n",
              "        </table>\n",
              "\n",
              "        \n",
              "\n",
              "        \n",
              "            <details>\n",
              "            <summary style=\"margin-bottom: 20px;\"><h3 style=\"display: inline;\">Cluster Info</h3></summary>\n",
              "            <div class=\"jp-RenderedHTMLCommon jp-RenderedHTML jp-mod-trusted jp-OutputArea-output\">\n",
              "    <div style=\"width: 24px; height: 24px; background-color: #e1e1e1; border: 3px solid #9D9D9D; border-radius: 5px; position: absolute;\">\n",
              "    </div>\n",
              "    <div style=\"margin-left: 48px;\">\n",
              "        <h3 style=\"margin-bottom: 0px; margin-top: 0px;\">LocalCluster</h3>\n",
              "        <p style=\"color: #9D9D9D; margin-bottom: 0px;\">8fb9fd58</p>\n",
              "        <table style=\"width: 100%; text-align: left;\">\n",
              "            <tr>\n",
              "                <td style=\"text-align: left;\">\n",
              "                    <strong>Dashboard:</strong> <a href=\"http://127.0.0.1:44807/status\" target=\"_blank\">http://127.0.0.1:44807/status</a>\n",
              "                </td>\n",
              "                <td style=\"text-align: left;\">\n",
              "                    <strong>Workers:</strong> 4\n",
              "                </td>\n",
              "            </tr>\n",
              "            <tr>\n",
              "                <td style=\"text-align: left;\">\n",
              "                    <strong>Total threads:</strong> 4\n",
              "                </td>\n",
              "                <td style=\"text-align: left;\">\n",
              "                    <strong>Total memory:</strong> 12.67 GiB\n",
              "                </td>\n",
              "            </tr>\n",
              "            \n",
              "            <tr>\n",
              "    <td style=\"text-align: left;\"><strong>Status:</strong> running</td>\n",
              "    <td style=\"text-align: left;\"><strong>Using processes:</strong> True</td>\n",
              "</tr>\n",
              "\n",
              "            \n",
              "        </table>\n",
              "\n",
              "        <details>\n",
              "            <summary style=\"margin-bottom: 20px;\">\n",
              "                <h3 style=\"display: inline;\">Scheduler Info</h3>\n",
              "            </summary>\n",
              "\n",
              "            <div style=\"\">\n",
              "    <div>\n",
              "        <div style=\"width: 24px; height: 24px; background-color: #FFF7E5; border: 3px solid #FF6132; border-radius: 5px; position: absolute;\"> </div>\n",
              "        <div style=\"margin-left: 48px;\">\n",
              "            <h3 style=\"margin-bottom: 0px;\">Scheduler</h3>\n",
              "            <p style=\"color: #9D9D9D; margin-bottom: 0px;\">Scheduler-42558803-c388-43a0-9c41-804f64bd7186</p>\n",
              "            <table style=\"width: 100%; text-align: left;\">\n",
              "                <tr>\n",
              "                    <td style=\"text-align: left;\">\n",
              "                        <strong>Comm:</strong> tcp://127.0.0.1:40103\n",
              "                    </td>\n",
              "                    <td style=\"text-align: left;\">\n",
              "                        <strong>Workers:</strong> 4\n",
              "                    </td>\n",
              "                </tr>\n",
              "                <tr>\n",
              "                    <td style=\"text-align: left;\">\n",
              "                        <strong>Dashboard:</strong> <a href=\"http://127.0.0.1:44807/status\" target=\"_blank\">http://127.0.0.1:44807/status</a>\n",
              "                    </td>\n",
              "                    <td style=\"text-align: left;\">\n",
              "                        <strong>Total threads:</strong> 4\n",
              "                    </td>\n",
              "                </tr>\n",
              "                <tr>\n",
              "                    <td style=\"text-align: left;\">\n",
              "                        <strong>Started:</strong> Just now\n",
              "                    </td>\n",
              "                    <td style=\"text-align: left;\">\n",
              "                        <strong>Total memory:</strong> 12.67 GiB\n",
              "                    </td>\n",
              "                </tr>\n",
              "            </table>\n",
              "        </div>\n",
              "    </div>\n",
              "\n",
              "    <details style=\"margin-left: 48px;\">\n",
              "        <summary style=\"margin-bottom: 20px;\">\n",
              "            <h3 style=\"display: inline;\">Workers</h3>\n",
              "        </summary>\n",
              "\n",
              "        \n",
              "        <div style=\"margin-bottom: 20px;\">\n",
              "            <div style=\"width: 24px; height: 24px; background-color: #DBF5FF; border: 3px solid #4CC9FF; border-radius: 5px; position: absolute;\"> </div>\n",
              "            <div style=\"margin-left: 48px;\">\n",
              "            <details>\n",
              "                <summary>\n",
              "                    <h4 style=\"margin-bottom: 0px; display: inline;\">Worker: 0</h4>\n",
              "                </summary>\n",
              "                <table style=\"width: 100%; text-align: left;\">\n",
              "                    <tr>\n",
              "                        <td style=\"text-align: left;\">\n",
              "                            <strong>Comm: </strong> tcp://127.0.0.1:42233\n",
              "                        </td>\n",
              "                        <td style=\"text-align: left;\">\n",
              "                            <strong>Total threads: </strong> 1\n",
              "                        </td>\n",
              "                    </tr>\n",
              "                    <tr>\n",
              "                        <td style=\"text-align: left;\">\n",
              "                            <strong>Dashboard: </strong> <a href=\"http://127.0.0.1:45979/status\" target=\"_blank\">http://127.0.0.1:45979/status</a>\n",
              "                        </td>\n",
              "                        <td style=\"text-align: left;\">\n",
              "                            <strong>Memory: </strong> 3.17 GiB\n",
              "                        </td>\n",
              "                    </tr>\n",
              "                    <tr>\n",
              "                        <td style=\"text-align: left;\">\n",
              "                            <strong>Nanny: </strong> tcp://127.0.0.1:44367\n",
              "                        </td>\n",
              "                        <td style=\"text-align: left;\"></td>\n",
              "                    </tr>\n",
              "                    <tr>\n",
              "                        <td colspan=\"2\" style=\"text-align: left;\">\n",
              "                            <strong>Local directory: </strong> /tmp/dask-scratch-space/worker-6srqp5ph\n",
              "                        </td>\n",
              "                    </tr>\n",
              "\n",
              "                    \n",
              "\n",
              "                    \n",
              "\n",
              "                </table>\n",
              "            </details>\n",
              "            </div>\n",
              "        </div>\n",
              "        \n",
              "        <div style=\"margin-bottom: 20px;\">\n",
              "            <div style=\"width: 24px; height: 24px; background-color: #DBF5FF; border: 3px solid #4CC9FF; border-radius: 5px; position: absolute;\"> </div>\n",
              "            <div style=\"margin-left: 48px;\">\n",
              "            <details>\n",
              "                <summary>\n",
              "                    <h4 style=\"margin-bottom: 0px; display: inline;\">Worker: 1</h4>\n",
              "                </summary>\n",
              "                <table style=\"width: 100%; text-align: left;\">\n",
              "                    <tr>\n",
              "                        <td style=\"text-align: left;\">\n",
              "                            <strong>Comm: </strong> tcp://127.0.0.1:41153\n",
              "                        </td>\n",
              "                        <td style=\"text-align: left;\">\n",
              "                            <strong>Total threads: </strong> 1\n",
              "                        </td>\n",
              "                    </tr>\n",
              "                    <tr>\n",
              "                        <td style=\"text-align: left;\">\n",
              "                            <strong>Dashboard: </strong> <a href=\"http://127.0.0.1:44643/status\" target=\"_blank\">http://127.0.0.1:44643/status</a>\n",
              "                        </td>\n",
              "                        <td style=\"text-align: left;\">\n",
              "                            <strong>Memory: </strong> 3.17 GiB\n",
              "                        </td>\n",
              "                    </tr>\n",
              "                    <tr>\n",
              "                        <td style=\"text-align: left;\">\n",
              "                            <strong>Nanny: </strong> tcp://127.0.0.1:46703\n",
              "                        </td>\n",
              "                        <td style=\"text-align: left;\"></td>\n",
              "                    </tr>\n",
              "                    <tr>\n",
              "                        <td colspan=\"2\" style=\"text-align: left;\">\n",
              "                            <strong>Local directory: </strong> /tmp/dask-scratch-space/worker-7cvjfmv6\n",
              "                        </td>\n",
              "                    </tr>\n",
              "\n",
              "                    \n",
              "\n",
              "                    \n",
              "\n",
              "                </table>\n",
              "            </details>\n",
              "            </div>\n",
              "        </div>\n",
              "        \n",
              "        <div style=\"margin-bottom: 20px;\">\n",
              "            <div style=\"width: 24px; height: 24px; background-color: #DBF5FF; border: 3px solid #4CC9FF; border-radius: 5px; position: absolute;\"> </div>\n",
              "            <div style=\"margin-left: 48px;\">\n",
              "            <details>\n",
              "                <summary>\n",
              "                    <h4 style=\"margin-bottom: 0px; display: inline;\">Worker: 2</h4>\n",
              "                </summary>\n",
              "                <table style=\"width: 100%; text-align: left;\">\n",
              "                    <tr>\n",
              "                        <td style=\"text-align: left;\">\n",
              "                            <strong>Comm: </strong> tcp://127.0.0.1:43025\n",
              "                        </td>\n",
              "                        <td style=\"text-align: left;\">\n",
              "                            <strong>Total threads: </strong> 1\n",
              "                        </td>\n",
              "                    </tr>\n",
              "                    <tr>\n",
              "                        <td style=\"text-align: left;\">\n",
              "                            <strong>Dashboard: </strong> <a href=\"http://127.0.0.1:38189/status\" target=\"_blank\">http://127.0.0.1:38189/status</a>\n",
              "                        </td>\n",
              "                        <td style=\"text-align: left;\">\n",
              "                            <strong>Memory: </strong> 3.17 GiB\n",
              "                        </td>\n",
              "                    </tr>\n",
              "                    <tr>\n",
              "                        <td style=\"text-align: left;\">\n",
              "                            <strong>Nanny: </strong> tcp://127.0.0.1:34659\n",
              "                        </td>\n",
              "                        <td style=\"text-align: left;\"></td>\n",
              "                    </tr>\n",
              "                    <tr>\n",
              "                        <td colspan=\"2\" style=\"text-align: left;\">\n",
              "                            <strong>Local directory: </strong> /tmp/dask-scratch-space/worker-51rrmpxq\n",
              "                        </td>\n",
              "                    </tr>\n",
              "\n",
              "                    \n",
              "\n",
              "                    \n",
              "\n",
              "                </table>\n",
              "            </details>\n",
              "            </div>\n",
              "        </div>\n",
              "        \n",
              "        <div style=\"margin-bottom: 20px;\">\n",
              "            <div style=\"width: 24px; height: 24px; background-color: #DBF5FF; border: 3px solid #4CC9FF; border-radius: 5px; position: absolute;\"> </div>\n",
              "            <div style=\"margin-left: 48px;\">\n",
              "            <details>\n",
              "                <summary>\n",
              "                    <h4 style=\"margin-bottom: 0px; display: inline;\">Worker: 3</h4>\n",
              "                </summary>\n",
              "                <table style=\"width: 100%; text-align: left;\">\n",
              "                    <tr>\n",
              "                        <td style=\"text-align: left;\">\n",
              "                            <strong>Comm: </strong> tcp://127.0.0.1:45313\n",
              "                        </td>\n",
              "                        <td style=\"text-align: left;\">\n",
              "                            <strong>Total threads: </strong> 1\n",
              "                        </td>\n",
              "                    </tr>\n",
              "                    <tr>\n",
              "                        <td style=\"text-align: left;\">\n",
              "                            <strong>Dashboard: </strong> <a href=\"http://127.0.0.1:41495/status\" target=\"_blank\">http://127.0.0.1:41495/status</a>\n",
              "                        </td>\n",
              "                        <td style=\"text-align: left;\">\n",
              "                            <strong>Memory: </strong> 3.17 GiB\n",
              "                        </td>\n",
              "                    </tr>\n",
              "                    <tr>\n",
              "                        <td style=\"text-align: left;\">\n",
              "                            <strong>Nanny: </strong> tcp://127.0.0.1:42485\n",
              "                        </td>\n",
              "                        <td style=\"text-align: left;\"></td>\n",
              "                    </tr>\n",
              "                    <tr>\n",
              "                        <td colspan=\"2\" style=\"text-align: left;\">\n",
              "                            <strong>Local directory: </strong> /tmp/dask-scratch-space/worker-zw2qw4ce\n",
              "                        </td>\n",
              "                    </tr>\n",
              "\n",
              "                    \n",
              "\n",
              "                    \n",
              "\n",
              "                </table>\n",
              "            </details>\n",
              "            </div>\n",
              "        </div>\n",
              "        \n",
              "\n",
              "    </details>\n",
              "</div>\n",
              "\n",
              "        </details>\n",
              "    </div>\n",
              "</div>\n",
              "            </details>\n",
              "        \n",
              "\n",
              "    </div>\n",
              "</div>"
            ]
          },
          "metadata": {},
          "execution_count": 40
        }
      ],
      "source": [
        "from dask.distributed import Client\n",
        "\n",
        "client = Client(n_workers=4)\n",
        "client"
      ]
    },
    {
      "cell_type": "markdown",
      "metadata": {
        "id": "AQCh4STkb-Ss"
      },
      "source": [
        "### Dask Diagnostic Dashboard\n",
        "\n",
        "Dask Distributed provides a useful Dashboard to visualize the state of your cluster and computations.\n",
        "\n",
        "If you're on **JupyterLab or Binder**, you can use the [Dask JupyterLab extension](https://github.com/dask/dask-labextension) (which should be already installed in your environment) to open the dashboard plots:\n",
        "* Click on the Dask logo in the left sidebar\n",
        "* Click on the magnifying glass icon, which will automatically connect to the active dashboard (if that doesn't work, you can type/paste the dashboard link http://127.0.0.1:8787 in the field)\n",
        "* Click on **\"Task Stream\"**, **\"Progress Bar\"**, and **\"Worker Memory\"**, which will open these plots in new tabs\n",
        "* Re-organize the tabs to suit your workflow!\n",
        "\n",
        "Alternatively, click on the dashboard link displayed in the Client details above: http://127.0.0.1:8787/status. It will open a new browser tab with the Dashboard."
      ]
    },
    {
      "cell_type": "markdown",
      "metadata": {
        "tags": [],
        "id": "kGZRt7tDb-St"
      },
      "source": [
        "## Reading and working with datasets\n",
        "\n",
        "Let's read an extract of flights in the USA across several years. This data is specific to flights out of the three airports in the New York City area."
      ]
    },
    {
      "cell_type": "code",
      "execution_count": 41,
      "metadata": {
        "id": "k65x8_YUb-St"
      },
      "outputs": [],
      "source": [
        "import os\n",
        "import dask"
      ]
    },
    {
      "cell_type": "markdown",
      "metadata": {
        "id": "ovXM4uVAb-St"
      },
      "source": [
        "By convention, we import the module `dask.dataframe` as `dd`, and call the corresponding `DataFrame` object `ddf`.\n",
        "\n",
        "**Note**: The term \"Dask DataFrame\" is slightly overloaded. Depending on the context, it can refer to the module or the DataFrame object. To avoid confusion, throughout this notebook:\n",
        "- `dask.dataframe` (note the all lowercase) refers to the API, and\n",
        "- `DataFrame` (note the CamelCase) refers to the object.\n",
        "\n",
        "The following filename includes a glob pattern `*`, so all files in the path matching that pattern will be read into the same `DataFrame`."
      ]
    },
    {
      "cell_type": "code",
      "execution_count": 42,
      "metadata": {
        "colab": {
          "base_uri": "https://localhost:8080/",
          "height": 328
        },
        "id": "Ila4hU69b-St",
        "outputId": "1b6e163e-ff31-4ff7-8920-1a5ccab926cd"
      },
      "outputs": [
        {
          "output_type": "stream",
          "name": "stderr",
          "text": [
            "/usr/local/lib/python3.11/dist-packages/dask/dataframe/io/csv.py:740: FutureWarning: Support for nested sequences for 'parse_dates' in pd.read_csv is deprecated. Combine the desired columns with pd.to_datetime after parsing instead.\n",
            "  head = reader(BytesIO(b_sample), nrows=sample_rows, **head_kwargs)\n"
          ]
        },
        {
          "output_type": "execute_result",
          "data": {
            "text/plain": [
              "Dask DataFrame Structure:\n",
              "                          Date DayOfWeek  DepTime CRSDepTime  ArrTime CRSArrTime UniqueCarrier FlightNum  TailNum ActualElapsedTime CRSElapsedTime  AirTime ArrDelay DepDelay  Origin    Dest Distance   TaxiIn  TaxiOut Cancelled Diverted\n",
              "npartitions=10                                                                                                                                                                                                                             \n",
              "                datetime64[ns]     int64  float64      int64  float64      int64        string     int64  float64           float64          int64  float64  float64  float64  string  string  float64  float64  float64     int64    int64\n",
              "                           ...       ...      ...        ...      ...        ...           ...       ...      ...               ...            ...      ...      ...      ...     ...     ...      ...      ...      ...       ...      ...\n",
              "...                        ...       ...      ...        ...      ...        ...           ...       ...      ...               ...            ...      ...      ...      ...     ...     ...      ...      ...      ...       ...      ...\n",
              "                           ...       ...      ...        ...      ...        ...           ...       ...      ...               ...            ...      ...      ...      ...     ...     ...      ...      ...      ...       ...      ...\n",
              "                           ...       ...      ...        ...      ...        ...           ...       ...      ...               ...            ...      ...      ...      ...     ...     ...      ...      ...      ...       ...      ...\n",
              "Dask Name: to_string_dtype, 2 expressions\n",
              "Expr=ArrowStringConversion(frame=FromMapProjectable(6d50aff))"
            ],
            "text/html": [
              "<div><strong>Dask DataFrame Structure:</strong></div>\n",
              "<table border=\"1\" class=\"dataframe\">\n",
              "  <thead>\n",
              "    <tr style=\"text-align: right;\">\n",
              "      <th></th>\n",
              "      <th>Date</th>\n",
              "      <th>DayOfWeek</th>\n",
              "      <th>DepTime</th>\n",
              "      <th>CRSDepTime</th>\n",
              "      <th>ArrTime</th>\n",
              "      <th>CRSArrTime</th>\n",
              "      <th>UniqueCarrier</th>\n",
              "      <th>FlightNum</th>\n",
              "      <th>TailNum</th>\n",
              "      <th>ActualElapsedTime</th>\n",
              "      <th>CRSElapsedTime</th>\n",
              "      <th>AirTime</th>\n",
              "      <th>ArrDelay</th>\n",
              "      <th>DepDelay</th>\n",
              "      <th>Origin</th>\n",
              "      <th>Dest</th>\n",
              "      <th>Distance</th>\n",
              "      <th>TaxiIn</th>\n",
              "      <th>TaxiOut</th>\n",
              "      <th>Cancelled</th>\n",
              "      <th>Diverted</th>\n",
              "    </tr>\n",
              "    <tr>\n",
              "      <th>npartitions=10</th>\n",
              "      <th></th>\n",
              "      <th></th>\n",
              "      <th></th>\n",
              "      <th></th>\n",
              "      <th></th>\n",
              "      <th></th>\n",
              "      <th></th>\n",
              "      <th></th>\n",
              "      <th></th>\n",
              "      <th></th>\n",
              "      <th></th>\n",
              "      <th></th>\n",
              "      <th></th>\n",
              "      <th></th>\n",
              "      <th></th>\n",
              "      <th></th>\n",
              "      <th></th>\n",
              "      <th></th>\n",
              "      <th></th>\n",
              "      <th></th>\n",
              "      <th></th>\n",
              "    </tr>\n",
              "  </thead>\n",
              "  <tbody>\n",
              "    <tr>\n",
              "      <th></th>\n",
              "      <td>datetime64[ns]</td>\n",
              "      <td>int64</td>\n",
              "      <td>float64</td>\n",
              "      <td>int64</td>\n",
              "      <td>float64</td>\n",
              "      <td>int64</td>\n",
              "      <td>string</td>\n",
              "      <td>int64</td>\n",
              "      <td>float64</td>\n",
              "      <td>float64</td>\n",
              "      <td>int64</td>\n",
              "      <td>float64</td>\n",
              "      <td>float64</td>\n",
              "      <td>float64</td>\n",
              "      <td>string</td>\n",
              "      <td>string</td>\n",
              "      <td>float64</td>\n",
              "      <td>float64</td>\n",
              "      <td>float64</td>\n",
              "      <td>int64</td>\n",
              "      <td>int64</td>\n",
              "    </tr>\n",
              "    <tr>\n",
              "      <th></th>\n",
              "      <td>...</td>\n",
              "      <td>...</td>\n",
              "      <td>...</td>\n",
              "      <td>...</td>\n",
              "      <td>...</td>\n",
              "      <td>...</td>\n",
              "      <td>...</td>\n",
              "      <td>...</td>\n",
              "      <td>...</td>\n",
              "      <td>...</td>\n",
              "      <td>...</td>\n",
              "      <td>...</td>\n",
              "      <td>...</td>\n",
              "      <td>...</td>\n",
              "      <td>...</td>\n",
              "      <td>...</td>\n",
              "      <td>...</td>\n",
              "      <td>...</td>\n",
              "      <td>...</td>\n",
              "      <td>...</td>\n",
              "      <td>...</td>\n",
              "    </tr>\n",
              "    <tr>\n",
              "      <th>...</th>\n",
              "      <td>...</td>\n",
              "      <td>...</td>\n",
              "      <td>...</td>\n",
              "      <td>...</td>\n",
              "      <td>...</td>\n",
              "      <td>...</td>\n",
              "      <td>...</td>\n",
              "      <td>...</td>\n",
              "      <td>...</td>\n",
              "      <td>...</td>\n",
              "      <td>...</td>\n",
              "      <td>...</td>\n",
              "      <td>...</td>\n",
              "      <td>...</td>\n",
              "      <td>...</td>\n",
              "      <td>...</td>\n",
              "      <td>...</td>\n",
              "      <td>...</td>\n",
              "      <td>...</td>\n",
              "      <td>...</td>\n",
              "      <td>...</td>\n",
              "    </tr>\n",
              "    <tr>\n",
              "      <th></th>\n",
              "      <td>...</td>\n",
              "      <td>...</td>\n",
              "      <td>...</td>\n",
              "      <td>...</td>\n",
              "      <td>...</td>\n",
              "      <td>...</td>\n",
              "      <td>...</td>\n",
              "      <td>...</td>\n",
              "      <td>...</td>\n",
              "      <td>...</td>\n",
              "      <td>...</td>\n",
              "      <td>...</td>\n",
              "      <td>...</td>\n",
              "      <td>...</td>\n",
              "      <td>...</td>\n",
              "      <td>...</td>\n",
              "      <td>...</td>\n",
              "      <td>...</td>\n",
              "      <td>...</td>\n",
              "      <td>...</td>\n",
              "      <td>...</td>\n",
              "    </tr>\n",
              "    <tr>\n",
              "      <th></th>\n",
              "      <td>...</td>\n",
              "      <td>...</td>\n",
              "      <td>...</td>\n",
              "      <td>...</td>\n",
              "      <td>...</td>\n",
              "      <td>...</td>\n",
              "      <td>...</td>\n",
              "      <td>...</td>\n",
              "      <td>...</td>\n",
              "      <td>...</td>\n",
              "      <td>...</td>\n",
              "      <td>...</td>\n",
              "      <td>...</td>\n",
              "      <td>...</td>\n",
              "      <td>...</td>\n",
              "      <td>...</td>\n",
              "      <td>...</td>\n",
              "      <td>...</td>\n",
              "      <td>...</td>\n",
              "      <td>...</td>\n",
              "      <td>...</td>\n",
              "    </tr>\n",
              "  </tbody>\n",
              "</table>\n",
              "<div>Dask Name: to_string_dtype, 2 expressions</div>"
            ]
          },
          "metadata": {},
          "execution_count": 42
        }
      ],
      "source": [
        "import dask.dataframe as dd\n",
        "\n",
        "ddf = dd.read_csv(\n",
        "    os.path.join(\"data\", \"nycflights\", \"*.csv\"), parse_dates={\"Date\": [0, 1, 2]}\n",
        ")\n",
        "ddf"
      ]
    },
    {
      "cell_type": "markdown",
      "metadata": {
        "id": "C2Pd2Zphb-St"
      },
      "source": [
        "Dask has not loaded the data yet, it has:\n",
        "- investigated the input path and found that there are ten matching files\n",
        "- intelligently created a set of jobs for each chunk -- one per original CSV file in this case"
      ]
    },
    {
      "cell_type": "markdown",
      "metadata": {
        "id": "p0SbPSIrb-Su"
      },
      "source": [
        "Notice that the representation of the `DataFrame` object contains no data - Dask has just done enough to read the start of the first file, and infer the column names and dtypes."
      ]
    },
    {
      "cell_type": "markdown",
      "metadata": {
        "id": "1_Ls9MCEb-Su"
      },
      "source": [
        "### Lazy Evaluation\n",
        "\n",
        "Most Dask Collections, including Dask `DataFrame` are evaluated lazily, which means Dask constructs the logic (called task graph) of your computation immediately but \"evaluates\" them  only when necessary. You can view this task graph using `.visualize()`.\n",
        "\n",
        "You will learn more about this in the Delayed notebook, but for now, note that we need to call `.compute()` to trigger actual computations."
      ]
    },
    {
      "cell_type": "code",
      "execution_count": 43,
      "metadata": {
        "colab": {
          "base_uri": "https://localhost:8080/",
          "height": 176
        },
        "id": "I5oU_Ua7b-Su",
        "outputId": "6e3ce711-0ae5-4a89-8938-8e4bfc9f055d"
      },
      "outputs": [
        {
          "output_type": "execute_result",
          "data": {
            "image/svg+xml": "<?xml version=\"1.0\" encoding=\"UTF-8\" standalone=\"no\"?>\n<!DOCTYPE svg PUBLIC \"-//W3C//DTD SVG 1.1//EN\"\n \"http://www.w3.org/Graphics/SVG/1.1/DTD/svg11.dtd\">\n<!-- Generated by graphviz version 2.43.0 (0)\n -->\n<!-- Title: %3 Pages: 1 -->\n<svg width=\"430pt\" height=\"116pt\"\n viewBox=\"0.00 0.00 430.00 116.00\" xmlns=\"http://www.w3.org/2000/svg\" xmlns:xlink=\"http://www.w3.org/1999/xlink\">\n<g id=\"graph0\" class=\"graph\" transform=\"scale(1 1) rotate(0) translate(4 112)\">\n<title>%3</title>\n<polygon fill=\"white\" stroke=\"transparent\" points=\"-4,4 -4,-112 426,-112 426,4 -4,4\"/>\n<!-- 64577961407804974 -->\n<g id=\"node1\" class=\"node\">\n<title>64577961407804974</title>\n<polygon fill=\"none\" stroke=\"black\" points=\"422,-108 0,-108 0,-72 422,-72 422,-108\"/>\n<text text-anchor=\"middle\" x=\"211\" y=\"-85\" font-family=\"Helvetica,sans-Serif\" font-size=\"20.00\">ArrowStringConversion(FromMapProjectable)</text>\n</g>\n<!-- 670299760847455576 -->\n<g id=\"node2\" class=\"node\">\n<title>670299760847455576</title>\n<polygon fill=\"none\" stroke=\"black\" points=\"312.5,-36 109.5,-36 109.5,0 312.5,0 312.5,-36\"/>\n<text text-anchor=\"middle\" x=\"211\" y=\"-13\" font-family=\"Helvetica,sans-Serif\" font-size=\"20.00\">FromMapProjectable</text>\n</g>\n<!-- 670299760847455576&#45;&gt;64577961407804974 -->\n<g id=\"edge1\" class=\"edge\">\n<title>670299760847455576&#45;&gt;64577961407804974</title>\n<path fill=\"none\" stroke=\"black\" d=\"M211,-36.3C211,-44.02 211,-53.29 211,-61.89\"/>\n<polygon fill=\"black\" stroke=\"black\" points=\"207.5,-61.9 211,-71.9 214.5,-61.9 207.5,-61.9\"/>\n</g>\n</g>\n</svg>\n",
            "text/plain": [
              "<graphviz.graphs.Digraph at 0x7e35b0cca9d0>"
            ]
          },
          "metadata": {},
          "execution_count": 43
        }
      ],
      "source": [
        "ddf.visualize()"
      ]
    },
    {
      "cell_type": "markdown",
      "metadata": {
        "id": "Hj7BLbRpb-Su"
      },
      "source": [
        "Some functions like `len` and `head` also trigger a computation. Specifically, calling `len` will:\n",
        "- load actual data, (that is, load each file into a pandas DataFrame)\n",
        "- then apply the corresponding functions to each pandas DataFrame (also known as a partition)\n",
        "- combine the subtotals to give you the final grand total"
      ]
    },
    {
      "cell_type": "code",
      "execution_count": null,
      "metadata": {
        "id": "hXrtoPSLb-Su"
      },
      "outputs": [],
      "source": [
        "# load and count number of rows\n",
        "len(ddf)"
      ]
    },
    {
      "cell_type": "markdown",
      "metadata": {
        "id": "B1fPaUbLb-Su"
      },
      "source": [
        "You can view the start and end of the data as you would in pandas:"
      ]
    },
    {
      "cell_type": "code",
      "execution_count": null,
      "metadata": {
        "id": "_fKFjiGyb-Su"
      },
      "outputs": [],
      "source": [
        "ddf.head()"
      ]
    },
    {
      "cell_type": "markdown",
      "metadata": {
        "tags": [
          "raises-exception"
        ],
        "id": "IdoYYg4bb-Su"
      },
      "source": [
        "```python\n",
        "ddf.tail()\n",
        "\n",
        "# ValueError: Mismatched dtypes found in `pd.read_csv`/`pd.read_table`.\n",
        "\n",
        "# +----------------+---------+----------+\n",
        "# | Column         | Found   | Expected |\n",
        "# +----------------+---------+----------+\n",
        "# | CRSElapsedTime | float64 | int64    |\n",
        "# | TailNum        | object  | float64  |\n",
        "# +----------------+---------+----------+\n",
        "\n",
        "# The following columns also raised exceptions on conversion:\n",
        "\n",
        "# - TailNum\n",
        "#   ValueError(\"could not convert string to float: 'N54711'\")\n",
        "\n",
        "# Usually this is due to dask's dtype inference failing, and\n",
        "# *may* be fixed by specifying dtypes manually by adding:\n",
        "\n",
        "# dtype={'CRSElapsedTime': 'float64',\n",
        "#        'TailNum': 'object'}\n",
        "\n",
        "# to the call to `read_csv`/`read_table`.\n",
        "\n",
        "```"
      ]
    },
    {
      "cell_type": "markdown",
      "metadata": {
        "id": "vCVL6N1wb-Sv"
      },
      "source": [
        "Unlike `pandas.read_csv` which reads in the entire file before inferring datatypes, `dask.dataframe.read_csv` only reads in a sample from the beginning of the file (or first file if using a glob). These inferred datatypes are then enforced when reading all partitions.\n",
        "\n",
        "In this case, the datatypes inferred in the sample are incorrect. The first `n` rows have no value for `CRSElapsedTime` (which pandas infers as a `float`), and later on turn out to be strings (`object` dtype). Note that Dask gives an informative error message about the mismatch. When this happens you have a few options:\n",
        "\n",
        "- Specify dtypes directly using the `dtype` keyword. This is the recommended solution, as it's the least error prone (better to be explicit than implicit) and also the most performant.\n",
        "- Increase the size of the `sample` keyword (in bytes)\n",
        "- Use `assume_missing` to make `dask` assume that columns inferred to be `int` (which don't allow missing values) are actually `floats` (which do allow missing values). In our particular case this doesn't apply.\n",
        "\n",
        "In our case we'll use the first option and directly specify the `dtypes` of the offending columns."
      ]
    },
    {
      "cell_type": "code",
      "execution_count": null,
      "metadata": {
        "id": "RdicBTTAb-Sv"
      },
      "outputs": [],
      "source": [
        "ddf = dd.read_csv(\n",
        "    os.path.join(\"data\", \"nycflights\", \"*.csv\"),\n",
        "    parse_dates={\"Date\": [0, 1, 2]},\n",
        "    dtype={\"TailNum\": str, \"CRSElapsedTime\": float, \"Cancelled\": bool},\n",
        ")"
      ]
    },
    {
      "cell_type": "code",
      "execution_count": null,
      "metadata": {
        "id": "iOEuL1DPb-Sv"
      },
      "outputs": [],
      "source": [
        "ddf.tail()  # now works"
      ]
    },
    {
      "cell_type": "markdown",
      "metadata": {
        "id": "a80p8YBwb-Sv"
      },
      "source": [
        "### Reading from remote storage\n",
        "\n",
        "If you're thinking about distributed computing, your data is probably stored remotely on services (like Amazon's S3 or Google's cloud storage) and is in a friendlier format (like Parquet). Dask can read data in various formats directly from these remote locations **lazily** and **in parallel**.\n",
        "\n",
        "Here's how you can read the NYC taxi cab data from Amazon S3:\n",
        "\n",
        "```python\n",
        "ddf = dd.read_parquet(\n",
        "    \"s3://nyc-tlc/trip data/yellow_tripdata_2012-*.parquet\",\n",
        ")\n",
        "```\n",
        "\n",
        "You can also leverage Parquet-specific optimizations like column selection and metadata handling, learn more in [the Dask documentation on working with Parquet files](https://docs.dask.org/en/stable/dataframe-parquet.html)."
      ]
    },
    {
      "cell_type": "markdown",
      "metadata": {
        "tags": [],
        "id": "CtP8gHc-b-Sv"
      },
      "source": [
        "## Computations with `dask.dataframe`\n",
        "\n",
        "Let's compute the maximum of the flight delay.\n",
        "\n",
        "With just pandas, we would loop over each file to find the individual maximums, then find the final maximum over all the individual maximums.\n",
        "\n",
        "```python\n",
        "import pandas as pd\n",
        "\n",
        "files = os.listdir(os.path.join('data', 'nycflights'))\n",
        "\n",
        "maxes = []\n",
        "\n",
        "for file in files:\n",
        "    df = pd.read_csv(os.path.join('data', 'nycflights', file))\n",
        "    maxes.append(df.DepDelay.max())\n",
        "    \n",
        "final_max = max(maxes)\n",
        "```\n",
        "\n",
        "`dask.dataframe` lets us write pandas-like code, that operates on larger-than-memory datasets in parallel."
      ]
    },
    {
      "cell_type": "code",
      "execution_count": null,
      "metadata": {
        "id": "nMR18k93b-Sv"
      },
      "outputs": [],
      "source": [
        "%%time\n",
        "result = ddf.DepDelay.max()\n",
        "result.compute()"
      ]
    },
    {
      "cell_type": "markdown",
      "metadata": {
        "id": "9jjr5El4b-Sw"
      },
      "source": [
        "This creates the lazy computation for us and then runs it.  "
      ]
    },
    {
      "cell_type": "markdown",
      "metadata": {
        "id": "FRSl2_NLb-Sw"
      },
      "source": [
        "**Note:** Dask will delete intermediate results (like the full pandas DataFrame for each file) as soon as possible. This means you can handle datasets that are larger than memory but, repeated computations will have to load all of the data in each time. (Run the code above again, is it faster or slower than you would expect?)"
      ]
    },
    {
      "cell_type": "markdown",
      "metadata": {
        "id": "BZXAJz5Lb-Sw"
      },
      "source": [
        "You can view the underlying task graph using `.visualize()`:"
      ]
    },
    {
      "cell_type": "code",
      "execution_count": null,
      "metadata": {
        "id": "ClJLx6tbb-Sw"
      },
      "outputs": [],
      "source": [
        "# notice the parallelism\n",
        "result.visualize()"
      ]
    },
    {
      "cell_type": "markdown",
      "metadata": {
        "id": "2uUMR6nxb-Sw"
      },
      "source": [
        "## Exercises\n",
        "\n",
        "In this section you will do a few `dask.dataframe` computations. If you are comfortable with pandas then these should be familiar. You will have to think about when to call `.compute()`."
      ]
    },
    {
      "cell_type": "markdown",
      "metadata": {
        "id": "B0uuMsMPb-Sw"
      },
      "source": [
        "### 1. How many rows are in our dataset?\n",
        "\n",
        "_Hint_: how would you check how many items are in a list?"
      ]
    },
    {
      "cell_type": "code",
      "execution_count": null,
      "metadata": {
        "id": "Q2dcpySnb-Sw"
      },
      "outputs": [],
      "source": [
        "# Your code here\n",
        "ddf.shape[0].compute()"
      ]
    },
    {
      "cell_type": "markdown",
      "metadata": {
        "id": "NgALrObob-Sx"
      },
      "source": [
        "### 2. In total, how many non-canceled flights were taken?\n",
        "\n",
        "_Hint_: use [boolean indexing](https://pandas.pydata.org/pandas-docs/stable/indexing.html#boolean-indexing)."
      ]
    },
    {
      "cell_type": "code",
      "execution_count": null,
      "metadata": {
        "id": "stbdl6xWb-Sx"
      },
      "outputs": [],
      "source": [
        "# Your code here\n",
        "ddf[~ddf.Cancelled].shape[0].compute()"
      ]
    },
    {
      "cell_type": "markdown",
      "metadata": {
        "id": "R_98JEFkb-S1"
      },
      "source": [
        "### 3. In total, how many non-canceled flights were taken from each airport?\n",
        "\n",
        "*Hint*: use [groupby](https://pandas.pydata.org/pandas-docs/stable/groupby.html)."
      ]
    },
    {
      "cell_type": "code",
      "execution_count": null,
      "metadata": {
        "id": "WuEyYecnb-S2"
      },
      "outputs": [],
      "source": [
        "# Your code here\n",
        "ddf[~ddf.Cancelled].groupby(\"Origin\").Origin.count().compute()"
      ]
    },
    {
      "cell_type": "markdown",
      "metadata": {
        "id": "DG-FmNr5b-S2"
      },
      "source": [
        "### 4. What was the average departure delay from each airport?"
      ]
    },
    {
      "cell_type": "code",
      "execution_count": null,
      "metadata": {
        "id": "hW0fUB3kb-S2"
      },
      "outputs": [],
      "source": [
        "# Your code here\n",
        "ddf.groupby(\"Origin\").DepDelay.mean().compute()"
      ]
    },
    {
      "cell_type": "markdown",
      "metadata": {
        "id": "2Ho3jlmyb-S2"
      },
      "source": [
        "### 5. What day of the week has the worst average departure delay?"
      ]
    },
    {
      "cell_type": "code",
      "execution_count": null,
      "metadata": {
        "id": "-3PDgyh3b-S2"
      },
      "outputs": [],
      "source": [
        "# Your code here\n",
        "ddf.groupby(ddf.Date.dt.weekday).DepDelay.mean().compute()"
      ]
    },
    {
      "cell_type": "markdown",
      "metadata": {
        "id": "_KQ4x_q_b-S3"
      },
      "source": [
        "### 6. Let's say the distance column is erroneous and you need to add 1 to all values, how would you do this?"
      ]
    },
    {
      "cell_type": "code",
      "execution_count": null,
      "metadata": {
        "id": "2qGDNc4Wb-S3"
      },
      "outputs": [],
      "source": [
        "# Your code here\n",
        "ddf.head()\n",
        "ddf.Distance + 1"
      ]
    },
    {
      "cell_type": "code",
      "source": [
        "\n",
        "ddf.head()"
      ],
      "metadata": {
        "id": "wlyh_PCQtQjx"
      },
      "execution_count": null,
      "outputs": []
    },
    {
      "cell_type": "markdown",
      "metadata": {
        "id": "OZvaleu3b-S3"
      },
      "source": [
        "## Sharing Intermediate Results\n",
        "\n",
        "When computing all of the above, we sometimes did the same operation more than once. For most operations, `dask.dataframe` stores the arguments, allowing duplicate computations to be shared and only computed once.\n",
        "\n",
        "For example, let's compute the mean and standard deviation for departure delay of all non-canceled flights. Since Dask operations are lazy, those values aren't the final results yet. They're just the steps required to get the result.\n",
        "\n",
        "If you compute them with two calls to compute, there is no sharing of intermediate computations."
      ]
    },
    {
      "cell_type": "code",
      "execution_count": null,
      "metadata": {
        "id": "2o3aG9D7b-S3"
      },
      "outputs": [],
      "source": [
        "non_canceled = ddf[~ddf.Cancelled]\n",
        "mean_delay = non_canceled.DepDelay.mean()\n",
        "std_delay = non_canceled.DepDelay.std()"
      ]
    },
    {
      "cell_type": "code",
      "execution_count": null,
      "metadata": {
        "tags": [],
        "id": "vy6K_-Ucb-S3"
      },
      "outputs": [],
      "source": [
        "%%time\n",
        "\n",
        "mean_delay_res = mean_delay.compute()\n",
        "std_delay_res = std_delay.compute()"
      ]
    },
    {
      "cell_type": "markdown",
      "metadata": {
        "id": "f_El5c4jb-S3"
      },
      "source": [
        "### `dask.compute`"
      ]
    },
    {
      "cell_type": "markdown",
      "metadata": {
        "id": "KHag9LxEb-S4"
      },
      "source": [
        "But let's try by passing both to a single `compute` call."
      ]
    },
    {
      "cell_type": "code",
      "execution_count": null,
      "metadata": {
        "tags": [],
        "id": "iiuJr58Db-S4"
      },
      "outputs": [],
      "source": [
        "%%time\n",
        "\n",
        "mean_delay_res, std_delay_res = dask.compute(mean_delay, std_delay)"
      ]
    },
    {
      "cell_type": "markdown",
      "metadata": {
        "id": "LqfP4aMrb-S4"
      },
      "source": [
        "Using `dask.compute` takes roughly 1/2 the time. This is because the task graphs for both results are merged when calling `dask.compute`, allowing shared operations to only be done once instead of twice. In particular, using `dask.compute` only does the following once:\n",
        "\n",
        "- the calls to `read_csv`\n",
        "- the filter (`df[~df.Cancelled]`)\n",
        "- some of the necessary reductions (`sum`, `count`)"
      ]
    },
    {
      "cell_type": "markdown",
      "metadata": {
        "id": "1saiH66sb-S4"
      },
      "source": [
        "To see what the merged task graphs between multiple results look like (and what's shared), you can use the `dask.visualize` function (you might want to use `filename='graph.pdf'` to save the graph to disk so that you can zoom in more easily):"
      ]
    },
    {
      "cell_type": "code",
      "source": [
        "!python -m pip install -q ipycytoscape"
      ],
      "metadata": {
        "id": "tP3iRe-wgtXP"
      },
      "execution_count": null,
      "outputs": []
    },
    {
      "cell_type": "code",
      "execution_count": null,
      "metadata": {
        "id": "Ui_P3ylrb-S5"
      },
      "outputs": [],
      "source": [
        "dask.visualize(mean_delay, std_delay, engine=\"cytoscape\")"
      ]
    },
    {
      "cell_type": "markdown",
      "metadata": {
        "tags": [],
        "id": "fu9eHEwPb-S5"
      },
      "source": [
        "### `.persist()`\n",
        "\n",
        "While using a distributed scheduler (you will learn more about schedulers in the upcoming notebooks), you can keep some _data that you want to use often_ in the _distributed memory_.\n",
        "\n",
        "`persist` generates \"Futures\" (more on this later as well) and stores them in the same structure as your output. You can use `persist` with any data or computation that fits in memory."
      ]
    },
    {
      "cell_type": "markdown",
      "metadata": {
        "id": "BJsI5Ao4b-S5"
      },
      "source": [
        "If you want to analyze data only for non-canceled flights departing from JFK airport, you can either have two compute calls like in the previous section:"
      ]
    },
    {
      "cell_type": "code",
      "execution_count": null,
      "metadata": {
        "id": "VVPnZKj3b-S5"
      },
      "outputs": [],
      "source": [
        "non_cancelled = ddf[~ddf.Cancelled]\n",
        "ddf_jfk = non_cancelled[non_cancelled.Origin == \"JFK\"]"
      ]
    },
    {
      "cell_type": "code",
      "execution_count": null,
      "metadata": {
        "id": "F6EvERAUb-S5"
      },
      "outputs": [],
      "source": [
        "%%time\n",
        "ddf_jfk.DepDelay.mean().compute()\n",
        "ddf_jfk.DepDelay.sum().compute()"
      ]
    },
    {
      "cell_type": "markdown",
      "metadata": {
        "id": "GKqq_g1kb-S5"
      },
      "source": [
        "Or, consider persisting that subset of data in memory.\n",
        "\n",
        "See the \"Graph\" dashboard plot, the red squares indicate persisted data stored as Futures in memory. You will also notice an increase in Worker Memory (another dashboard plot) consumption."
      ]
    },
    {
      "cell_type": "code",
      "execution_count": null,
      "metadata": {
        "id": "yOphTBSKb-S5"
      },
      "outputs": [],
      "source": [
        "ddf_jfk = ddf_jfk.persist()  # returns back control immediately"
      ]
    },
    {
      "cell_type": "code",
      "execution_count": 37,
      "metadata": {
        "colab": {
          "base_uri": "https://localhost:8080/"
        },
        "id": "WGWTvFTlb-S5",
        "outputId": "2fa63867-5403-4b7e-91ed-0b525f51cdb3"
      },
      "outputs": [
        {
          "output_type": "stream",
          "name": "stdout",
          "text": [
            "CPU times: user 2.93 s, sys: 515 ms, total: 3.44 s\n",
            "Wall time: 24.5 s\n"
          ]
        },
        {
          "output_type": "execute_result",
          "data": {
            "text/plain": [
              "np.float64(31.242509798271147)"
            ]
          },
          "metadata": {},
          "execution_count": 37
        }
      ],
      "source": [
        "%%time\n",
        "ddf_jfk.DepDelay.mean().compute()\n",
        "ddf_jfk.DepDelay.std().compute()"
      ]
    },
    {
      "cell_type": "markdown",
      "metadata": {
        "id": "sZFUPx0xb-S6"
      },
      "source": [
        "Analyses on this persisted data is faster because we are not repeating the loading and selecting (non-canceled, JFK departure) operations."
      ]
    },
    {
      "cell_type": "markdown",
      "metadata": {
        "id": "YFm6FfIrb-S6"
      },
      "source": [
        "## Custom code with Dask DataFrame\n",
        "\n",
        "`dask.dataframe` only covers a small but well-used portion of the pandas API.\n",
        "\n",
        "This limitation is for two reasons:\n",
        "\n",
        "1.  The Pandas API is *huge*\n",
        "2.  Some operations are genuinely hard to do in parallel, e.g, sorting.\n",
        "\n",
        "Additionally, some important operations like `set_index` work, but are slower than in pandas because they include substantial shuffling of data, and may write out to disk.\n",
        "\n",
        "**What if you want to use some custom functions that aren't (or can't be) implemented for Dask DataFrame yet?**\n",
        "\n",
        "You can open an issue on the [Dask issue tracker](https://github.com/dask/dask/issues) to check how feasible the function could be to implement, and you can consider contributing this function to Dask.\n",
        "\n",
        "In case it's a custom function or tricky to implement, `dask.dataframe` provides a few methods to make applying custom functions to Dask DataFrames easier:\n",
        "\n",
        "- [`map_partitions`](https://docs.dask.org/en/latest/generated/dask.dataframe.DataFrame.map_partitions.html): to run a function on each partition (each pandas DataFrame) of the Dask DataFrame\n",
        "- [`map_overlap`](https://docs.dask.org/en/latest/generated/dask.dataframe.rolling.map_overlap.html): to run a function on each partition (each pandas DataFrame) of the Dask DataFrame, with some rows shared between neighboring partitions\n",
        "- [`reduction`](https://docs.dask.org/en/latest/generated/dask.dataframe.Series.reduction.html): for custom row-wise reduction operations."
      ]
    },
    {
      "cell_type": "markdown",
      "metadata": {
        "id": "ena93VKmb-S6"
      },
      "source": [
        "Let's take a quick look at the `map_partitions()` function:"
      ]
    },
    {
      "cell_type": "code",
      "execution_count": null,
      "metadata": {
        "tags": [],
        "id": "VpK0R9d5b-S6"
      },
      "outputs": [],
      "source": [
        "help(ddf.map_partitions)"
      ]
    },
    {
      "cell_type": "markdown",
      "metadata": {
        "id": "-l8kLUugb-S6"
      },
      "source": [
        "The \"Distance\" column in `ddf` is currently in miles. Let's say we want to convert the units to kilometers and we have a general helper function as shown below. In this case, we can use `map_partitions` to apply this function across each of the internal pandas `DataFrame`s in parallel."
      ]
    },
    {
      "cell_type": "code",
      "execution_count": null,
      "metadata": {
        "id": "Cb0T2xrub-S6"
      },
      "outputs": [],
      "source": [
        "def my_custom_converter(df, multiplier=1):\n",
        "    return df * multiplier\n",
        "\n",
        "\n",
        "meta = pd.Series(name=\"Distance\", dtype=\"float64\")\n",
        "\n",
        "distance_km = ddf.Distance.map_partitions(\n",
        "    my_custom_converter, multiplier=0.6, meta=meta\n",
        ")"
      ]
    },
    {
      "cell_type": "code",
      "execution_count": null,
      "metadata": {
        "id": "nqPV-UH4b-S6"
      },
      "outputs": [],
      "source": [
        "distance_km.visualize()"
      ]
    },
    {
      "cell_type": "code",
      "execution_count": null,
      "metadata": {
        "id": "SpfucnKpb-S6"
      },
      "outputs": [],
      "source": [
        "distance_km.head()"
      ]
    },
    {
      "cell_type": "markdown",
      "metadata": {
        "id": "7l8hvPFrb-S7"
      },
      "source": [
        "### What is `meta`?\n",
        "\n",
        "Since Dask operates lazily, it doesn't always have enough information to infer the output structure (which includes datatypes) of certain operations.\n",
        "\n",
        "`meta` is a _suggestion_ to Dask about the output of your computation. Importantly, `meta` _never infers with the output structure_. Dask uses this `meta` until it can determine the actual output structure.\n",
        "\n",
        "Even though there are many ways to define `meta`, we suggest using a small pandas Series or DataFrame that matches the structure of your final output."
      ]
    },
    {
      "cell_type": "markdown",
      "metadata": {
        "tags": [],
        "id": "uULnEpd3b-S7"
      },
      "source": [
        "## Close you local Dask Cluster"
      ]
    },
    {
      "cell_type": "markdown",
      "metadata": {
        "id": "0pUtIH8ub-S7"
      },
      "source": [
        "It's good practice to always close any Dask cluster you create:"
      ]
    },
    {
      "cell_type": "code",
      "execution_count": null,
      "metadata": {
        "id": "bQLwiTNKb-S8"
      },
      "outputs": [],
      "source": [
        "client.shutdown()"
      ]
    },
    {
      "cell_type": "code",
      "source": [],
      "metadata": {
        "id": "Y_ikJNLSeGlQ"
      },
      "execution_count": null,
      "outputs": []
    }
  ],
  "metadata": {
    "anaconda-cloud": {},
    "kernelspec": {
      "display_name": "Python 3 (ipykernel)",
      "language": "python",
      "name": "python3"
    },
    "language_info": {
      "codemirror_mode": {
        "name": "ipython",
        "version": 3
      },
      "file_extension": ".py",
      "mimetype": "text/x-python",
      "name": "python",
      "nbconvert_exporter": "python",
      "pygments_lexer": "ipython3",
      "version": "3.10.5"
    },
    "colab": {
      "provenance": []
    }
  },
  "nbformat": 4,
  "nbformat_minor": 0
}